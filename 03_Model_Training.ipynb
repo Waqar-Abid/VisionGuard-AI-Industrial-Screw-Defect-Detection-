{
 "cells": [
  {
   "cell_type": "markdown",
   "id": "04be6bd7",
   "metadata": {},
   "source": [
    "#  VisionGuard AI – Model Training\n",
    "\n",
    "---\n",
    "\n",
    "##  Notebook Overview  \n",
    "\n",
    "In this notebook, I will:  \n",
    "\n",
    "-  Define a **PyTorch CNN model** for defect detection.  \n",
    "-  Set **loss function & optimizer**.  \n",
    "-  Train the model using the screw dataset.  \n",
    "-  Save the trained model for later evaluation & deployment.  \n"
   ]
  },
  {
   "cell_type": "markdown",
   "id": "48d01711",
   "metadata": {},
   "source": [
    "##  Import Libraries  \n",
    "\n",
    "\n"
   ]
  },
  {
   "cell_type": "code",
   "execution_count": 1,
   "id": "5050177d",
   "metadata": {},
   "outputs": [],
   "source": [
    "import os, copy, time\n",
    "import torch\n",
    "import torch.nn as nn\n",
    "import torch.optim as optim\n",
    "from torch.utils.data import DataLoader\n",
    "from torchvision import datasets, models, transforms\n",
    "from sklearn.metrics import classification_report\n",
    "\n"
   ]
  },
  {
   "cell_type": "markdown",
   "id": "ae19836f",
   "metadata": {},
   "source": [
    "##  Define Configurations\n",
    "I will define dataset paths, batch size, learning rate, and preprocessing transforms.\n"
   ]
  },
  {
   "cell_type": "code",
   "execution_count": 6,
   "id": "f61741a4",
   "metadata": {},
   "outputs": [
    {
     "name": "stdout",
     "output_type": "stream",
     "text": [
      "Using device: cpu\n",
      "Classes: ['good', 'manipulated_front', 'scratch_head', 'scratch_neck', 'thread_side', 'thread_top']\n"
     ]
    }
   ],
   "source": [
    "\n",
    "# config \n",
    "device = torch.device(\"cuda\" if torch.cuda.is_available() else \"cpu\")\n",
    "print(\"Using device:\", device)\n",
    "\n",
    "dataset_dir = r\"E:\\Final project of Ats\\screw_dataset\"\n",
    "batch_size  = 32\n",
    "num_classes = 6\n",
    "epochs      = 30\n",
    "lr          = 1e-4\n",
    "\n",
    "# transforms\n",
    "IMAGENET_MEAN = [0.485, 0.456, 0.406]\n",
    "IMAGENET_STD  = [0.229, 0.224, 0.225]\n",
    "\n",
    "train_tfms = transforms.Compose([\n",
    "    transforms.Resize((224,224)),\n",
    "    transforms.RandomHorizontalFlip(),\n",
    "    transforms.RandomRotation(10),\n",
    "    transforms.ToTensor(),\n",
    "    transforms.Normalize(IMAGENET_MEAN, IMAGENET_STD)\n",
    "])\n",
    "val_tfms = transforms.Compose([\n",
    "    transforms.Resize((224,224)),\n",
    "    transforms.ToTensor(),\n",
    "    transforms.Normalize(IMAGENET_MEAN, IMAGENET_STD)\n",
    "])\n",
    "\n",
    "# datasets + dataloaders\n",
    "train_dataset = datasets.ImageFolder(os.path.join(dataset_dir, \"train\"), transform=train_tfms)\n",
    "val_dataset   = datasets.ImageFolder(os.path.join(dataset_dir, \"val\"), transform=val_tfms)\n",
    "\n",
    "train_loader = DataLoader(train_dataset, batch_size=batch_size, shuffle=True)\n",
    "val_loader   = DataLoader(val_dataset, batch_size=batch_size, shuffle=False)\n",
    "\n",
    "class_names = train_dataset.classes\n",
    "print(\"Classes:\", class_names)\n"
   ]
  },
  {
   "cell_type": "markdown",
   "id": "75ab197a",
   "metadata": {},
   "source": [
    "##  Load Pretrained ResNet50\n",
    "I will use ResNet50 pretrained on ImageNet, replace the final fully connected layer, and prepare it for training.\n"
   ]
  },
  {
   "cell_type": "code",
   "execution_count": 8,
   "id": "9157b036",
   "metadata": {},
   "outputs": [
    {
     "name": "stderr",
     "output_type": "stream",
     "text": [
      "d:\\Program Files\\Python310\\lib\\site-packages\\torchvision\\models\\_utils.py:208: UserWarning: The parameter 'pretrained' is deprecated since 0.13 and may be removed in the future, please use 'weights' instead.\n",
      "  warnings.warn(\n",
      "d:\\Program Files\\Python310\\lib\\site-packages\\torchvision\\models\\_utils.py:223: UserWarning: Arguments other than a weight enum or `None` for 'weights' are deprecated since 0.13 and may be removed in the future. The current behavior is equivalent to passing `weights=ResNet50_Weights.IMAGENET1K_V1`. You can also use `weights=ResNet50_Weights.DEFAULT` to get the most up-to-date weights.\n",
      "  warnings.warn(msg)\n"
     ]
    },
    {
     "name": "stdout",
     "output_type": "stream",
     "text": [
      "Downloading: \"https://download.pytorch.org/models/resnet50-0676ba61.pth\" to C:\\Users\\A.C/.cache\\torch\\hub\\checkpoints\\resnet50-0676ba61.pth\n"
     ]
    },
    {
     "name": "stderr",
     "output_type": "stream",
     "text": [
      "100.0%\n"
     ]
    }
   ],
   "source": [
    "\n",
    "# instead of weights=models.ResNet50_Weights.IMAGENET1K_V2\n",
    "model = models.resnet50(pretrained=True)\n",
    "\n",
    "in_features = model.fc.in_features\n",
    "model.fc = nn.Linear(in_features, num_classes)\n",
    "model = model.to(device)\n",
    "\n",
    "criterion = nn.CrossEntropyLoss()\n",
    "optimizer = optim.Adam(model.parameters(), lr=lr)\n"
   ]
  },
  {
   "cell_type": "markdown",
   "id": "3e8ae6b0",
   "metadata": {},
   "source": [
    "## Training & Validation Loop\n",
    "I will train the model, evaluate after each epoch, and save the best model weights.\n"
   ]
  },
  {
   "cell_type": "code",
   "execution_count": 9,
   "id": "f595cad7",
   "metadata": {},
   "outputs": [
    {
     "name": "stdout",
     "output_type": "stream",
     "text": [
      "\n",
      "Epoch 1/30\n",
      "Train Loss 1.2195 Acc 0.6208 | Val Loss 0.9797 Acc 0.7143\n",
      ">> Saved new best model!\n",
      "\n",
      "Epoch 2/30\n",
      "Train Loss 0.9680 Acc 0.6785 | Val Loss 1.0530 Acc 0.7500\n",
      ">> Saved new best model!\n",
      "\n",
      "Epoch 3/30\n",
      "Train Loss 0.8711 Acc 0.7184 | Val Loss 0.7534 Acc 0.7679\n",
      ">> Saved new best model!\n",
      "\n",
      "Epoch 4/30\n",
      "Train Loss 0.6865 Acc 0.7694 | Val Loss 0.8813 Acc 0.6429\n",
      "\n",
      "Epoch 5/30\n",
      "Train Loss 0.6730 Acc 0.7805 | Val Loss 0.9720 Acc 0.7679\n",
      "\n",
      "Epoch 6/30\n",
      "Train Loss 0.6045 Acc 0.8115 | Val Loss 0.7730 Acc 0.7143\n",
      "\n",
      "Epoch 7/30\n",
      "Train Loss 0.5005 Acc 0.8337 | Val Loss 0.8937 Acc 0.6964\n",
      "\n",
      "Epoch 8/30\n",
      "Train Loss 0.4625 Acc 0.8448 | Val Loss 1.7169 Acc 0.4643\n",
      "\n",
      "Epoch 9/30\n",
      "Train Loss 0.4259 Acc 0.8470 | Val Loss 0.8079 Acc 0.7500\n",
      "\n",
      "Epoch 10/30\n",
      "Train Loss 0.3511 Acc 0.8847 | Val Loss 0.5468 Acc 0.8036\n",
      ">> Saved new best model!\n",
      "\n",
      "Epoch 11/30\n",
      "Train Loss 0.2382 Acc 0.9180 | Val Loss 0.4120 Acc 0.8750\n",
      ">> Saved new best model!\n",
      "\n",
      "Epoch 12/30\n",
      "Train Loss 0.3074 Acc 0.8980 | Val Loss 1.0231 Acc 0.6786\n",
      "\n",
      "Epoch 13/30\n",
      "Train Loss 0.3471 Acc 0.8869 | Val Loss 0.8008 Acc 0.8036\n",
      "\n",
      "Epoch 14/30\n",
      "Train Loss 0.3233 Acc 0.9024 | Val Loss 0.9638 Acc 0.7143\n",
      "\n",
      "Epoch 15/30\n",
      "Train Loss 0.2630 Acc 0.9202 | Val Loss 1.3776 Acc 0.6607\n",
      "\n",
      "Epoch 16/30\n",
      "Train Loss 0.2824 Acc 0.9047 | Val Loss 1.5526 Acc 0.5357\n",
      "\n",
      "Epoch 17/30\n",
      "Train Loss 0.2635 Acc 0.9313 | Val Loss 0.7600 Acc 0.7857\n",
      "\n",
      "Epoch 18/30\n",
      "Train Loss 0.1773 Acc 0.9468 | Val Loss 0.9752 Acc 0.7857\n",
      "\n",
      "Epoch 19/30\n",
      "Train Loss 0.1660 Acc 0.9512 | Val Loss 0.4562 Acc 0.8393\n",
      "\n",
      "Epoch 20/30\n",
      "Train Loss 0.1438 Acc 0.9690 | Val Loss 0.2993 Acc 0.8929\n",
      ">> Saved new best model!\n",
      "\n",
      "Epoch 21/30\n",
      "Train Loss 0.1408 Acc 0.9623 | Val Loss 0.6558 Acc 0.8214\n",
      "\n",
      "Epoch 22/30\n",
      "Train Loss 0.1383 Acc 0.9623 | Val Loss 0.5659 Acc 0.7857\n",
      "\n",
      "Epoch 23/30\n",
      "Train Loss 0.1739 Acc 0.9379 | Val Loss 1.2384 Acc 0.6786\n",
      "\n",
      "Epoch 24/30\n",
      "Train Loss 0.1622 Acc 0.9557 | Val Loss 0.7664 Acc 0.7679\n",
      "\n",
      "Epoch 25/30\n",
      "Train Loss 0.1724 Acc 0.9446 | Val Loss 2.5891 Acc 0.5000\n",
      "\n",
      "Epoch 26/30\n",
      "Train Loss 0.1478 Acc 0.9645 | Val Loss 0.2462 Acc 0.8750\n",
      "\n",
      "Epoch 27/30\n",
      "Train Loss 0.0923 Acc 0.9712 | Val Loss 0.3910 Acc 0.8750\n",
      "\n",
      "Epoch 28/30\n",
      "Train Loss 0.0920 Acc 0.9778 | Val Loss 0.5560 Acc 0.8750\n",
      "\n",
      "Epoch 29/30\n",
      "Train Loss 0.0896 Acc 0.9778 | Val Loss 0.5136 Acc 0.8571\n",
      "\n",
      "Epoch 30/30\n",
      "Train Loss 0.1229 Acc 0.9557 | Val Loss 0.5193 Acc 0.8036\n"
     ]
    },
    {
     "data": {
      "text/plain": [
       "<All keys matched successfully>"
      ]
     },
     "execution_count": 9,
     "metadata": {},
     "output_type": "execute_result"
    }
   ],
   "source": [
    "best_acc = 0.0\n",
    "best_wts = copy.deepcopy(model.state_dict())\n",
    "\n",
    "for epoch in range(epochs):\n",
    "    print(f\"\\nEpoch {epoch+1}/{epochs}\")\n",
    "\n",
    "    # ---- train ----\n",
    "    model.train()\n",
    "    running_loss, correct, total = 0.0, 0, 0\n",
    "    for x, y in train_loader:\n",
    "        x, y = x.to(device), y.to(device)\n",
    "        optimizer.zero_grad()\n",
    "        outputs = model(x)\n",
    "        loss = criterion(outputs, y)\n",
    "        loss.backward()\n",
    "        optimizer.step()\n",
    "\n",
    "        running_loss += loss.item() * x.size(0)\n",
    "        preds = outputs.argmax(1)\n",
    "        correct += (preds == y).sum().item()\n",
    "        total += y.size(0)\n",
    "    train_loss = running_loss / total\n",
    "    train_acc = correct / total\n",
    "\n",
    "    # ---- validation ----\n",
    "    model.eval()\n",
    "    val_loss, val_correct, val_total = 0.0, 0, 0\n",
    "    with torch.no_grad():\n",
    "        for x, y in val_loader:\n",
    "            x, y = x.to(device), y.to(device)\n",
    "            outputs = model(x)\n",
    "            loss = criterion(outputs, y)\n",
    "            val_loss += loss.item() * x.size(0)\n",
    "            preds = outputs.argmax(1)\n",
    "            val_correct += (preds == y).sum().item()\n",
    "            val_total += y.size(0)\n",
    "    val_loss /= val_total\n",
    "    val_acc = val_correct / val_total\n",
    "\n",
    "    print(f\"Train Loss {train_loss:.4f} Acc {train_acc:.4f} | \"\n",
    "          f\"Val Loss {val_loss:.4f} Acc {val_acc:.4f}\")\n",
    "\n",
    "    # save checkpoint\n",
    "    if val_acc > best_acc:\n",
    "        best_acc = val_acc\n",
    "        best_wts = copy.deepcopy(model.state_dict())\n",
    "        print(\">> Saved new best model!\")\n",
    "\n",
    "# load best weights\n",
    "model.load_state_dict(best_wts)\n"
   ]
  },
  {
   "cell_type": "markdown",
   "id": "2fdb797b",
   "metadata": {},
   "source": [
    "# Best Model"
   ]
  },
  {
   "cell_type": "code",
   "execution_count": null,
   "id": "1feb2e70",
   "metadata": {},
   "outputs": [],
   "source": [
    "torch.save(best_wts, \"best_model.pth\")\n"
   ]
  },
  {
   "cell_type": "markdown",
   "id": "12084582",
   "metadata": {},
   "source": [
    "## Step 4: Evaluation on Validation Set\n"
   ]
  },
  {
   "cell_type": "code",
   "execution_count": 14,
   "id": "90db1efa",
   "metadata": {},
   "outputs": [
    {
     "name": "stdout",
     "output_type": "stream",
     "text": [
      "\n",
      "Classification Report of Validation accuracy:\n",
      "                   precision    recall  f1-score   support\n",
      "\n",
      "             good       0.95      1.00      0.97        36\n",
      "manipulated_front       1.00      1.00      1.00         4\n",
      "     scratch_head       0.67      1.00      0.80         4\n",
      "     scratch_neck       1.00      0.25      0.40         4\n",
      "      thread_side       0.75      0.75      0.75         4\n",
      "       thread_top       0.67      0.50      0.57         4\n",
      "\n",
      "         accuracy                           0.89        56\n",
      "        macro avg       0.84      0.75      0.75        56\n",
      "     weighted avg       0.90      0.89      0.88        56\n",
      "\n"
     ]
    }
   ],
   "source": [
    "y_true, y_pred = [], []\n",
    "model.eval()\n",
    "with torch.no_grad():\n",
    "    for x, y in val_loader:\n",
    "        x, y = x.to(device), y.to(device)\n",
    "        outputs = model(x)\n",
    "        preds = outputs.argmax(1)\n",
    "        y_true.extend(y.cpu().tolist())\n",
    "        y_pred.extend(preds.cpu().tolist())\n",
    "\n",
    "print(\"\\nClassification Report of Validation accuracy:\")\n",
    "print(classification_report(y_true, y_pred, target_names=class_names))\n"
   ]
  },
  {
   "cell_type": "markdown",
   "id": "2aebf5d6",
   "metadata": {},
   "source": [
    "## Save Model into `model.py`\n",
    "\n"
   ]
  },
  {
   "cell_type": "code",
   "execution_count": 11,
   "id": "fbd30b63",
   "metadata": {},
   "outputs": [
    {
     "name": "stdout",
     "output_type": "stream",
     "text": [
      " Trained model exported to model.py\n"
     ]
    }
   ],
   "source": [
    "export_path = \"model.py\"\n",
    "with open(export_path, \"w\") as f:\n",
    "    f.write(f\"\"\"import torch\n",
    "import torch.nn as nn\n",
    "from torchvision import models\n",
    "            \n",
    "def get_trained_model(num_classes={num_classes}, device=None):\n",
    "    model = models.resnet50()\n",
    "    in_features = model.fc.in_features\n",
    "    model.fc = nn.Linear(in_features, num_classes)\n",
    "    state_dict = {best_wts}\n",
    "    model.load_state_dict(state_dict)\n",
    "    if device:\n",
    "        model = model.to(device)\n",
    "    model.eval()\n",
    "    return model\n",
    "\"\"\")\n",
    "print(f\" Trained model exported to {export_path}\")\n"
   ]
  }
 ],
 "metadata": {
  "kernelspec": {
   "display_name": "Python 3",
   "language": "python",
   "name": "python3"
  },
  "language_info": {
   "codemirror_mode": {
    "name": "ipython",
    "version": 3
   },
   "file_extension": ".py",
   "mimetype": "text/x-python",
   "name": "python",
   "nbconvert_exporter": "python",
   "pygments_lexer": "ipython3",
   "version": "3.10.11"
  }
 },
 "nbformat": 4,
 "nbformat_minor": 5
}
