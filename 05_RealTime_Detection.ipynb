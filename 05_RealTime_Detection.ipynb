{
 "cells": [
  {
   "cell_type": "markdown",
   "id": "e8df5e7e",
   "metadata": {},
   "source": [
    "# 05 — Real-Time Screw Detection (Webcam / Video Stream)\n",
    "---\n",
    "##  Notebook Overview \n",
    "\n",
    "In this notebook, we will use our trained custom model to perform real-time detection on screws.\n"
   ]
  },
  {
   "cell_type": "markdown",
   "id": "ab7421f1",
   "metadata": {},
   "source": [
    "---\n",
    "# Setup & Imports"
   ]
  },
  {
   "cell_type": "code",
   "execution_count": 36,
   "id": "04b38ce6",
   "metadata": {},
   "outputs": [],
   "source": [
    "\n",
    "import os\n",
    "import time\n",
    "import cv2\n",
    "import torch\n",
    "import torch.nn as nn\n",
    "import torch.nn.functional as F\n",
    "from PIL import Image\n",
    "import torchvision.models as models\n",
    "import torchvision.transforms as transforms\n"
   ]
  },
  {
   "cell_type": "markdown",
   "id": "0a3605cb",
   "metadata": {},
   "source": [
    "# Configuration\n"
   ]
  },
  {
   "cell_type": "code",
   "execution_count": 46,
   "id": "460f21de",
   "metadata": {},
   "outputs": [],
   "source": [
    "# Device\n",
    "device = torch.device(\"cuda\" if torch.cuda.is_available() else \"cpu\")\n",
    "num_classes = 6  # adjust if you change dataset\n",
    "weights_path = \"best_model.pth\"   # <-- replace with your trained model path\n",
    "\n",
    "# Choose video_path =  0 (webcam), video file path, or IP stream URL\n",
    "# Examples:\n",
    "#  video_path = 0\n",
    "# video_path = r\"E:\\Final project of Ats\\videos\\screws_belt.mp4\"\n",
    "# video_path = \"http://192.168.0.101:4747/video\"\n",
    "\n",
    "video_path = r\"C:\\Users\\A.C\\Pictures\\Test video for project .mp4\"\n",
    "\n",
    "\n",
    "\n",
    "\n"
   ]
  },
  {
   "cell_type": "markdown",
   "id": "7dd37f55",
   "metadata": {},
   "source": [
    "# Load Trained Model (ResNet50)\n",
    "\n"
   ]
  },
  {
   "cell_type": "code",
   "execution_count": 38,
   "id": "b6052791",
   "metadata": {},
   "outputs": [
    {
     "name": "stderr",
     "output_type": "stream",
     "text": [
      "d:\\Program Files\\Python310\\lib\\site-packages\\torchvision\\models\\_utils.py:208: UserWarning: The parameter 'pretrained' is deprecated since 0.13 and may be removed in the future, please use 'weights' instead.\n",
      "  warnings.warn(\n",
      "d:\\Program Files\\Python310\\lib\\site-packages\\torchvision\\models\\_utils.py:223: UserWarning: Arguments other than a weight enum or `None` for 'weights' are deprecated since 0.13 and may be removed in the future. The current behavior is equivalent to passing `weights=None`.\n",
      "  warnings.warn(msg)\n"
     ]
    },
    {
     "name": "stdout",
     "output_type": "stream",
     "text": [
      " Model loaded and ready!\n"
     ]
    }
   ],
   "source": [
    "model = models.resnet50(pretrained=False)\n",
    "model.fc = nn.Linear(model.fc.in_features, num_classes)\n",
    "model.load_state_dict(torch.load(weights_path, map_location=device))\n",
    "model = model.to(device)\n",
    "model.eval()\n",
    "\n",
    "print(\" Model loaded and ready!\")\n"
   ]
  },
  {
   "cell_type": "markdown",
   "id": "175b6540",
   "metadata": {},
   "source": [
    "# Preprocessing (same as training)\n",
    "\n"
   ]
  },
  {
   "cell_type": "code",
   "execution_count": 39,
   "id": "df79e488",
   "metadata": {},
   "outputs": [],
   "source": [
    "transform = transforms.Compose([\n",
    "    transforms.ToTensor(),\n",
    "    transforms.Normalize((0.5, 0.5, 0.5), (0.5, 0.5, 0.5))\n",
    "])"
   ]
  },
  {
   "cell_type": "markdown",
   "id": "6e55893a",
   "metadata": {},
   "source": [
    "# Class Labels "
   ]
  },
  {
   "cell_type": "code",
   "execution_count": 40,
   "id": "c4a2c3de",
   "metadata": {},
   "outputs": [],
   "source": [
    "# Class Labels \n",
    "class_names = [\"good\", \"manipulated_front\", \"scratch_head\", \n",
    "               \"scratch_neck\", \"thread_side\", \"thread_top\"]\n"
   ]
  },
  {
   "cell_type": "markdown",
   "id": "a51eb17a",
   "metadata": {},
   "source": [
    "# Run Real-Time Stream\n"
   ]
  },
  {
   "cell_type": "code",
   "execution_count": 48,
   "id": "6d1ea747",
   "metadata": {},
   "outputs": [],
   "source": [
    "# Video Capture\n",
    "\n",
    "cap = cv2.VideoCapture(video_path)\n",
    "\n",
    "frame_skip = 3   # process 1 of every 3 frames (speed boost)\n",
    "frame_id = 0\n",
    "\n",
    "while cap.isOpened():\n",
    "    ret, frame = cap.read()\n",
    "    if not ret:\n",
    "        break\n",
    "\n",
    "    frame_id += 1\n",
    "    if frame_id % frame_skip != 0:\n",
    "        continue\n",
    "\n",
    "    #  Preprocess frame \n",
    "    img = cv2.resize(frame, (224, 224))\n",
    "    img_pil = Image.fromarray(cv2.cvtColor(img, cv2.COLOR_BGR2RGB))\n",
    "    img_tensor = transform(img_pil).unsqueeze(0).to(device)\n",
    "\n",
    "    #  Prediction \n",
    "    with torch.no_grad():\n",
    "        outputs = model(img_tensor)\n",
    "        _, pred = torch.max(outputs, 1)\n",
    "        label = class_names[pred.item()]\n",
    "\n",
    "    # Draw label\n",
    "    cv2.putText(frame, f\"Pred: {label}\", (20, 40), \n",
    "                cv2.FONT_HERSHEY_SIMPLEX, 1, (0,255,0), 2)\n",
    "\n",
    "    cv2.imshow(\"Defect Detection\", frame)\n",
    "\n",
    "    if cv2.waitKey(1) & 0xFF == ord('q'):\n",
    "        break\n",
    "\n",
    "cap.release()\n",
    "cv2.destroyAllWindows()"
   ]
  }
 ],
 "metadata": {
  "kernelspec": {
   "display_name": "Python 3",
   "language": "python",
   "name": "python3"
  },
  "language_info": {
   "codemirror_mode": {
    "name": "ipython",
    "version": 3
   },
   "file_extension": ".py",
   "mimetype": "text/x-python",
   "name": "python",
   "nbconvert_exporter": "python",
   "pygments_lexer": "ipython3",
   "version": "3.10.11"
  }
 },
 "nbformat": 4,
 "nbformat_minor": 5
}
